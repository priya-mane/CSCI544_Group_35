{
  "cells": [
    {
      "cell_type": "code",
      "execution_count": 3,
      "metadata": {
        "id": "ZFAOWcxHO0Da"
      },
      "outputs": [],
      "source": [
        "import pandas as pd\n",
        "df = pd.read_csv(\"/content/drive/MyDrive/mtsamples.csv\")\n",
        "df = df.dropna()\n",
        "df = df.reset_index(drop = True)"
      ]
    },
    {
      "cell_type": "code",
      "source": [
        "from google.colab import drive\n",
        "drive.mount('/content/drive')"
      ],
      "metadata": {
        "colab": {
          "base_uri": "https://localhost:8080/"
        },
        "id": "uff-MlY7f2aI",
        "outputId": "75ffeeca-e307-49a6-e582-3c726ab60328"
      },
      "execution_count": 2,
      "outputs": [
        {
          "output_type": "stream",
          "name": "stdout",
          "text": [
            "Mounted at /content/drive\n"
          ]
        }
      ]
    },
    {
      "cell_type": "code",
      "execution_count": 4,
      "metadata": {
        "colab": {
          "base_uri": "https://localhost:8080/"
        },
        "id": "WqTaZBmqPMvU",
        "outputId": "5e3f2460-d213-4e1c-d89f-1b8e539cc856"
      },
      "outputs": [
        {
          "output_type": "stream",
          "name": "stderr",
          "text": [
            "<ipython-input-4-544c6665081f>:3: SettingWithCopyWarning: \n",
            "A value is trying to be set on a copy of a slice from a DataFrame\n",
            "\n",
            "See the caveats in the documentation: https://pandas.pydata.org/pandas-docs/stable/user_guide/indexing.html#returning-a-view-versus-a-copy\n",
            "  df['description'][index] = df['description'][index].split()\n",
            "<ipython-input-4-544c6665081f>:5: SettingWithCopyWarning: \n",
            "A value is trying to be set on a copy of a slice from a DataFrame\n",
            "\n",
            "See the caveats in the documentation: https://pandas.pydata.org/pandas-docs/stable/user_guide/indexing.html#returning-a-view-versus-a-copy\n",
            "  df['description'][index] = ' '.join(df['description'][index])\n"
          ]
        }
      ],
      "source": [
        "description_lengths = []\n",
        "for index in df.index:\n",
        "  df['description'][index] = df['description'][index].split()\n",
        "  description_lengths.append(len(df['description'][index]))\n",
        "  df['description'][index] = ' '.join(df['description'][index])\n",
        "\n",
        "\n",
        "df['description_lengths'] = description_lengths"
      ]
    },
    {
      "cell_type": "code",
      "execution_count": 5,
      "metadata": {
        "id": "9ifHeyujPYbw"
      },
      "outputs": [],
      "source": [
        "df = df[df.description_lengths > 12]"
      ]
    },
    {
      "cell_type": "code",
      "execution_count": 6,
      "metadata": {
        "id": "4PFLg3lIPeTP"
      },
      "outputs": [],
      "source": [
        "df_summarize = pd.DataFrame()\n",
        "df_summarize = df[['transcription','description']].copy()"
      ]
    },
    {
      "cell_type": "code",
      "execution_count": 7,
      "metadata": {
        "id": "swM-gYn_PhGo"
      },
      "outputs": [],
      "source": [
        "df_summarize.reset_index(drop = True, inplace = True)"
      ]
    },
    {
      "cell_type": "code",
      "execution_count": 8,
      "metadata": {
        "id": "7AQ6wSsMPkDc"
      },
      "outputs": [],
      "source": [
        "df_summarize = df_summarize.rename(columns={'transcription':'Input','description':'Output'})"
      ]
    },
    {
      "cell_type": "code",
      "execution_count": 9,
      "metadata": {
        "id": "08I4RN2_Pnjp"
      },
      "outputs": [],
      "source": [
        "df_training = df_summarize[:1800]"
      ]
    },
    {
      "cell_type": "code",
      "source": [
        "df_testing = df_summarize[1800:]"
      ],
      "metadata": {
        "id": "2bgsjt7WjUPj"
      },
      "execution_count": 10,
      "outputs": []
    },
    {
      "cell_type": "code",
      "source": [
        "df_training.to_csv(\"/content/drive/MyDrive/input.csv\", index = False)"
      ],
      "metadata": {
        "id": "NWTkR2PyjqWH"
      },
      "execution_count": null,
      "outputs": []
    },
    {
      "cell_type": "code",
      "execution_count": null,
      "metadata": {
        "id": "Y1-Z7-NaQJDf"
      },
      "outputs": [],
      "source": [
        "df_testing.to_csv(\"/content/drive/MyDrive/output.csv\", index = False)"
      ]
    },
    {
      "cell_type": "code",
      "execution_count": null,
      "metadata": {
        "id": "zk0TxbtHTbBN"
      },
      "outputs": [],
      "source": [
        "! pip install -r /content/drive/MyDrive/requirements.txt"
      ]
    },
    {
      "cell_type": "code",
      "source": [
        "!python /content/drive/MyDrive/run_model.py --per_device_train_batch_size=2 --model_name_or_path 'facebook/bart-large-cnn' --do_train true --train_file /content/drive/MyDrive/input.csv --output_dir  /content/drive/MyDrive/model_output --num_train_epochs=5 --predict_with_generate --save_strategy=steps"
      ],
      "metadata": {
        "id": "Mum0qrr7jZnm"
      },
      "execution_count": null,
      "outputs": []
    },
    {
      "cell_type": "code",
      "execution_count": null,
      "metadata": {
        "id": "hrhUs-O7Qe5b"
      },
      "outputs": [],
      "source": [
        "!python /content/drive/MyDrive/run_model.py --model_name_or_path /content/drive/MyDrive/model_output --do_train false --do_predict true --train_file /content/drive/MyDrive/input.csv --test_file /content/drive/MyDrive/output.csv --output_dir  /content/drive/MyDrive/model_output --predict_with_generate --save_strategy=steps"
      ]
    },
    {
      "cell_type": "code",
      "source": [
        "#References\n",
        "# The files requirements.txt and run_model.py have been taken from referrring the github repo of hugging face\n",
        "#https://github.com/huggingface/transformers/blob/main/examples/pytorch/summarization/run_summarization.py\n",
        "#https://github.com/huggingface/transformers/tree/main/examples/pytorch/summarization"
      ],
      "metadata": {
        "id": "RWhGoJ4ixGb8"
      },
      "execution_count": null,
      "outputs": []
    }
  ],
  "metadata": {
    "accelerator": "GPU",
    "colab": {
      "provenance": []
    },
    "gpuClass": "standard",
    "kernelspec": {
      "display_name": "Python 3",
      "name": "python3"
    },
    "language_info": {
      "name": "python"
    }
  },
  "nbformat": 4,
  "nbformat_minor": 0
}